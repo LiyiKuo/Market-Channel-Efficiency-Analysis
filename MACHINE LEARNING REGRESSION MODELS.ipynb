{
 "cells": [
  {
   "cell_type": "code",
   "execution_count": 25,
   "metadata": {},
   "outputs": [],
   "source": [
    "# Import library\n",
    "import os\n",
    "import pandas as pd\n",
    "import numpy as np\n",
    "import matplotlib.pyplot as plt\n",
    "import seaborn as sns\n",
    "\n",
    "from sklearn.model_selection import train_test_split\n",
    "from sklearn.metrics import precision_score, recall_score, f1_score, roc_auc_score, accuracy_score\n",
    "from sklearn.model_selection import KFold, StratifiedKFold\n",
    "from sklearn import metrics\n",
    "import warnings\n",
    "warnings.filterwarnings(\"ignore\")\n",
    "\n",
    "import re\n",
    "def warn(*args, **kwargs):\n",
    "    pass\n",
    "import warnings\n",
    "warnings.warn = warn\n",
    "\n",
    "from sklearn.linear_model import LinearRegression\n",
    "from sklearn.model_selection import GridSearchCV\n",
    "\n",
    "from mlxtend.feature_selection import SequentialFeatureSelector as sfs\n",
    "import sklearn.model_selection as ms\n",
    "import statsmodels.api as sm \n",
    "\n",
    "os.chdir('/Users/macbook/Downloads')\n",
    "os.getcwd()\n",
    "\n",
    "df = pd.read_csv(\"Movado.csv\")"
   ]
  },
  {
   "cell_type": "markdown",
   "metadata": {},
   "source": [
    "The goal is to understand how efficient each marketing channel is to drive orders and sales\n",
    "- Develop statistical models to evaluate marketing efficiency\n",
    "- Models should be tested at both daily and weekly levels\n",
    "- Models should consider seasonality\n",
    "- Modelling code should be clean with necessary explanations and results should be reproducible\n",
    "- The deliverable should include modeling codes and a writeup to describe how you understand the data and problem,how do you select variables, how you choose your model, and what the results look like and how we can use the results to direct future marketing decision-making"
   ]
  },
  {
   "cell_type": "code",
   "execution_count": 26,
   "metadata": {},
   "outputs": [
    {
     "data": {
      "text/html": [
       "<div>\n",
       "<style scoped>\n",
       "    .dataframe tbody tr th:only-of-type {\n",
       "        vertical-align: middle;\n",
       "    }\n",
       "\n",
       "    .dataframe tbody tr th {\n",
       "        vertical-align: top;\n",
       "    }\n",
       "\n",
       "    .dataframe thead th {\n",
       "        text-align: right;\n",
       "    }\n",
       "</style>\n",
       "<table border=\"1\" class=\"dataframe\">\n",
       "  <thead>\n",
       "    <tr style=\"text-align: right;\">\n",
       "      <th></th>\n",
       "      <th>Date</th>\n",
       "      <th>orders</th>\n",
       "      <th>sales</th>\n",
       "      <th>S/O</th>\n",
       "      <th>Cost_Criteo</th>\n",
       "      <th>Cost_Email</th>\n",
       "      <th>Cost_FB_P</th>\n",
       "      <th>Cost_FB_R</th>\n",
       "      <th>Cost_GDN_P</th>\n",
       "      <th>Cost_GDN_R</th>\n",
       "      <th>Cost_Pint_P</th>\n",
       "      <th>Cost_Pint_R</th>\n",
       "      <th>Cost_Podcasts</th>\n",
       "      <th>Cost_SEM_B</th>\n",
       "      <th>Cost_SEM_NB</th>\n",
       "      <th>Cost_TV</th>\n",
       "    </tr>\n",
       "  </thead>\n",
       "  <tbody>\n",
       "    <tr>\n",
       "      <th>0</th>\n",
       "      <td>1/1/16</td>\n",
       "      <td>45.428571</td>\n",
       "      <td>5324.794286</td>\n",
       "      <td>117.212453</td>\n",
       "      <td>0.0</td>\n",
       "      <td>0</td>\n",
       "      <td>0.0</td>\n",
       "      <td>49.982143</td>\n",
       "      <td>33.241429</td>\n",
       "      <td>176.453571</td>\n",
       "      <td>0.0</td>\n",
       "      <td>0.0</td>\n",
       "      <td>0.0</td>\n",
       "      <td>117.282143</td>\n",
       "      <td>118.801429</td>\n",
       "      <td>0.0</td>\n",
       "    </tr>\n",
       "    <tr>\n",
       "      <th>1</th>\n",
       "      <td>1/2/16</td>\n",
       "      <td>48.642857</td>\n",
       "      <td>5790.447857</td>\n",
       "      <td>119.040044</td>\n",
       "      <td>0.0</td>\n",
       "      <td>0</td>\n",
       "      <td>0.0</td>\n",
       "      <td>39.867857</td>\n",
       "      <td>18.130714</td>\n",
       "      <td>71.442143</td>\n",
       "      <td>0.0</td>\n",
       "      <td>0.0</td>\n",
       "      <td>0.0</td>\n",
       "      <td>132.391429</td>\n",
       "      <td>71.215000</td>\n",
       "      <td>0.0</td>\n",
       "    </tr>\n",
       "    <tr>\n",
       "      <th>2</th>\n",
       "      <td>1/3/16</td>\n",
       "      <td>47.785714</td>\n",
       "      <td>5541.456429</td>\n",
       "      <td>115.964709</td>\n",
       "      <td>0.0</td>\n",
       "      <td>0</td>\n",
       "      <td>0.0</td>\n",
       "      <td>42.558571</td>\n",
       "      <td>21.433571</td>\n",
       "      <td>84.910714</td>\n",
       "      <td>0.0</td>\n",
       "      <td>0.0</td>\n",
       "      <td>0.0</td>\n",
       "      <td>147.811429</td>\n",
       "      <td>53.144286</td>\n",
       "      <td>0.0</td>\n",
       "    </tr>\n",
       "    <tr>\n",
       "      <th>3</th>\n",
       "      <td>1/4/16</td>\n",
       "      <td>81.500000</td>\n",
       "      <td>9972.320714</td>\n",
       "      <td>122.359763</td>\n",
       "      <td>0.0</td>\n",
       "      <td>0</td>\n",
       "      <td>0.0</td>\n",
       "      <td>45.019286</td>\n",
       "      <td>18.827143</td>\n",
       "      <td>65.668571</td>\n",
       "      <td>0.0</td>\n",
       "      <td>0.0</td>\n",
       "      <td>0.0</td>\n",
       "      <td>161.435000</td>\n",
       "      <td>90.473571</td>\n",
       "      <td>0.0</td>\n",
       "    </tr>\n",
       "    <tr>\n",
       "      <th>4</th>\n",
       "      <td>1/5/16</td>\n",
       "      <td>79.714286</td>\n",
       "      <td>9530.935714</td>\n",
       "      <td>119.563710</td>\n",
       "      <td>0.0</td>\n",
       "      <td>0</td>\n",
       "      <td>0.0</td>\n",
       "      <td>39.481429</td>\n",
       "      <td>15.142857</td>\n",
       "      <td>66.080000</td>\n",
       "      <td>0.0</td>\n",
       "      <td>0.0</td>\n",
       "      <td>0.0</td>\n",
       "      <td>190.327857</td>\n",
       "      <td>110.420714</td>\n",
       "      <td>0.0</td>\n",
       "    </tr>\n",
       "  </tbody>\n",
       "</table>\n",
       "</div>"
      ],
      "text/plain": [
       "     Date     orders        sales         S/O  Cost_Criteo  Cost_Email  \\\n",
       "0  1/1/16  45.428571  5324.794286  117.212453          0.0           0   \n",
       "1  1/2/16  48.642857  5790.447857  119.040044          0.0           0   \n",
       "2  1/3/16  47.785714  5541.456429  115.964709          0.0           0   \n",
       "3  1/4/16  81.500000  9972.320714  122.359763          0.0           0   \n",
       "4  1/5/16  79.714286  9530.935714  119.563710          0.0           0   \n",
       "\n",
       "   Cost_FB_P  Cost_FB_R  Cost_GDN_P  Cost_GDN_R  Cost_Pint_P  Cost_Pint_R  \\\n",
       "0        0.0  49.982143   33.241429  176.453571          0.0          0.0   \n",
       "1        0.0  39.867857   18.130714   71.442143          0.0          0.0   \n",
       "2        0.0  42.558571   21.433571   84.910714          0.0          0.0   \n",
       "3        0.0  45.019286   18.827143   65.668571          0.0          0.0   \n",
       "4        0.0  39.481429   15.142857   66.080000          0.0          0.0   \n",
       "\n",
       "   Cost_Podcasts  Cost_SEM_B  Cost_SEM_NB  Cost_TV  \n",
       "0            0.0  117.282143   118.801429      0.0  \n",
       "1            0.0  132.391429    71.215000      0.0  \n",
       "2            0.0  147.811429    53.144286      0.0  \n",
       "3            0.0  161.435000    90.473571      0.0  \n",
       "4            0.0  190.327857   110.420714      0.0  "
      ]
     },
     "execution_count": 26,
     "metadata": {},
     "output_type": "execute_result"
    }
   ],
   "source": [
    "df.head()"
   ]
  },
  {
   "cell_type": "code",
   "execution_count": 27,
   "metadata": {},
   "outputs": [
    {
     "data": {
      "text/plain": [
       "(1308, 16)"
      ]
     },
     "execution_count": 27,
     "metadata": {},
     "output_type": "execute_result"
    }
   ],
   "source": [
    "df.shape"
   ]
  },
  {
   "cell_type": "code",
   "execution_count": 28,
   "metadata": {},
   "outputs": [
    {
     "data": {
      "text/plain": [
       "Date              object\n",
       "orders           float64\n",
       "sales            float64\n",
       "S/O              float64\n",
       "Cost_Criteo      float64\n",
       "Cost_Email         int64\n",
       "Cost_FB_P        float64\n",
       "Cost_FB_R        float64\n",
       "Cost_GDN_P       float64\n",
       "Cost_GDN_R       float64\n",
       "Cost_Pint_P      float64\n",
       "Cost_Pint_R      float64\n",
       "Cost_Podcasts    float64\n",
       "Cost_SEM_B       float64\n",
       "Cost_SEM_NB      float64\n",
       "Cost_TV          float64\n",
       "dtype: object"
      ]
     },
     "execution_count": 28,
     "metadata": {},
     "output_type": "execute_result"
    }
   ],
   "source": [
    "df.dtypes"
   ]
  },
  {
   "cell_type": "code",
   "execution_count": 29,
   "metadata": {},
   "outputs": [
    {
     "data": {
      "text/plain": [
       "Date               0\n",
       "orders             0\n",
       "sales              0\n",
       "S/O              577\n",
       "Cost_Criteo        0\n",
       "Cost_Email         0\n",
       "Cost_FB_P          0\n",
       "Cost_FB_R          0\n",
       "Cost_GDN_P         0\n",
       "Cost_GDN_R         0\n",
       "Cost_Pint_P        0\n",
       "Cost_Pint_R        0\n",
       "Cost_Podcasts      0\n",
       "Cost_SEM_B         0\n",
       "Cost_SEM_NB        0\n",
       "Cost_TV            0\n",
       "dtype: int64"
      ]
     },
     "execution_count": 29,
     "metadata": {},
     "output_type": "execute_result"
    }
   ],
   "source": [
    "# Find numeber of missing cell \n",
    "df.isnull().sum()"
   ]
  },
  {
   "cell_type": "code",
   "execution_count": 30,
   "metadata": {},
   "outputs": [],
   "source": [
    "# Convert Date column to datetime\n",
    "df['Date'] = pd.to_datetime(df['Date'])"
   ]
  },
  {
   "cell_type": "code",
   "execution_count": 31,
   "metadata": {},
   "outputs": [
    {
     "data": {
      "text/plain": [
       "Date             datetime64[ns]\n",
       "orders                  float64\n",
       "sales                   float64\n",
       "S/O                     float64\n",
       "Cost_Criteo             float64\n",
       "Cost_Email                int64\n",
       "Cost_FB_P               float64\n",
       "Cost_FB_R               float64\n",
       "Cost_GDN_P              float64\n",
       "Cost_GDN_R              float64\n",
       "Cost_Pint_P             float64\n",
       "Cost_Pint_R             float64\n",
       "Cost_Podcasts           float64\n",
       "Cost_SEM_B              float64\n",
       "Cost_SEM_NB             float64\n",
       "Cost_TV                 float64\n",
       "dtype: object"
      ]
     },
     "execution_count": 31,
     "metadata": {},
     "output_type": "execute_result"
    }
   ],
   "source": [
    "df.dtypes"
   ]
  },
  {
   "cell_type": "code",
   "execution_count": 32,
   "metadata": {},
   "outputs": [
    {
     "data": {
      "text/plain": [
       "Date                0\n",
       "orders              0\n",
       "sales               0\n",
       "S/O                 0\n",
       "Cost_Criteo       176\n",
       "Cost_Email       1308\n",
       "Cost_FB_P          34\n",
       "Cost_FB_R           0\n",
       "Cost_GDN_P        832\n",
       "Cost_GDN_R          8\n",
       "Cost_Pint_P        29\n",
       "Cost_Pint_R       256\n",
       "Cost_Podcasts     579\n",
       "Cost_SEM_B          0\n",
       "Cost_SEM_NB         2\n",
       "Cost_TV           673\n",
       "dtype: int64"
      ]
     },
     "execution_count": 32,
     "metadata": {},
     "output_type": "execute_result"
    }
   ],
   "source": [
    "# Few columns have large of amount of zeros, count how many zeros are in each column\n",
    "(df == 0).astype(int).sum(axis=0)"
   ]
  },
  {
   "cell_type": "code",
   "execution_count": 33,
   "metadata": {},
   "outputs": [],
   "source": [
    "# Cost email column has all 0, drop\n",
    "df['Cost_Email'].value_counts()\n",
    "df = df.drop(['Cost_Email'], axis=1).drop(['S/O'], axis = 1)\n",
    "\n",
    "# Calculate purchase price per order, call it  'price'\n",
    "df['Price'] = df['sales']/df['orders']"
   ]
  },
  {
   "cell_type": "code",
   "execution_count": 34,
   "metadata": {},
   "outputs": [],
   "source": [
    "# get the week number in a year, Month, and Season based on Date\n",
    "df['Week_Num'] = df['Date'].dt.week\n",
    "df['Month'] = df['Date'].dt.month\n",
    "df['Weekday'] = df['Date'].dt.weekday\n",
    "\n",
    "# setup a dictionary where 1 = spring, 2 = summer, 3 = fall and 4 = winter\n",
    "seasons = [4, 4, 1, 1, 1, 2, 2, 2, 3, 3, 3, 4]\n",
    "month_to_season = dict(zip(range(1,13), seasons))\n",
    "month_to_season \n",
    "df['Season'] = df.Month.map(month_to_season) "
   ]
  },
  {
   "cell_type": "code",
   "execution_count": 35,
   "metadata": {},
   "outputs": [
    {
     "data": {
      "text/html": [
       "<div>\n",
       "<style scoped>\n",
       "    .dataframe tbody tr th:only-of-type {\n",
       "        vertical-align: middle;\n",
       "    }\n",
       "\n",
       "    .dataframe tbody tr th {\n",
       "        vertical-align: top;\n",
       "    }\n",
       "\n",
       "    .dataframe thead th {\n",
       "        text-align: right;\n",
       "    }\n",
       "</style>\n",
       "<table border=\"1\" class=\"dataframe\">\n",
       "  <thead>\n",
       "    <tr style=\"text-align: right;\">\n",
       "      <th></th>\n",
       "      <th>Date</th>\n",
       "      <th>orders</th>\n",
       "      <th>sales</th>\n",
       "      <th>Cost_Criteo</th>\n",
       "      <th>Cost_FB_P</th>\n",
       "      <th>Cost_FB_R</th>\n",
       "      <th>Cost_GDN_P</th>\n",
       "      <th>Cost_GDN_R</th>\n",
       "      <th>Cost_Pint_P</th>\n",
       "      <th>Cost_Pint_R</th>\n",
       "      <th>Cost_Podcasts</th>\n",
       "      <th>Cost_SEM_B</th>\n",
       "      <th>Cost_SEM_NB</th>\n",
       "      <th>Cost_TV</th>\n",
       "      <th>Price</th>\n",
       "      <th>Week_Num</th>\n",
       "      <th>Month</th>\n",
       "      <th>Weekday</th>\n",
       "      <th>Season</th>\n",
       "    </tr>\n",
       "  </thead>\n",
       "  <tbody>\n",
       "    <tr>\n",
       "      <th>1033</th>\n",
       "      <td>2018-10-30</td>\n",
       "      <td>64.642857</td>\n",
       "      <td>8317.371429</td>\n",
       "      <td>26.792508</td>\n",
       "      <td>1302.086429</td>\n",
       "      <td>98.127857</td>\n",
       "      <td>0.000000</td>\n",
       "      <td>2.257143</td>\n",
       "      <td>36.065000</td>\n",
       "      <td>10.179286</td>\n",
       "      <td>258.857143</td>\n",
       "      <td>73.840714</td>\n",
       "      <td>43.911429</td>\n",
       "      <td>426.821429</td>\n",
       "      <td>128.666519</td>\n",
       "      <td>44</td>\n",
       "      <td>10</td>\n",
       "      <td>1</td>\n",
       "      <td>3</td>\n",
       "    </tr>\n",
       "    <tr>\n",
       "      <th>466</th>\n",
       "      <td>2017-04-11</td>\n",
       "      <td>53.214286</td>\n",
       "      <td>7236.928571</td>\n",
       "      <td>53.256420</td>\n",
       "      <td>283.237143</td>\n",
       "      <td>112.710714</td>\n",
       "      <td>0.000000</td>\n",
       "      <td>10.542143</td>\n",
       "      <td>48.482857</td>\n",
       "      <td>17.235714</td>\n",
       "      <td>1200.815714</td>\n",
       "      <td>68.654286</td>\n",
       "      <td>27.425000</td>\n",
       "      <td>0.000000</td>\n",
       "      <td>135.995973</td>\n",
       "      <td>15</td>\n",
       "      <td>4</td>\n",
       "      <td>1</td>\n",
       "      <td>1</td>\n",
       "    </tr>\n",
       "    <tr>\n",
       "      <th>951</th>\n",
       "      <td>2018-08-09</td>\n",
       "      <td>53.071429</td>\n",
       "      <td>7228.480000</td>\n",
       "      <td>11.045585</td>\n",
       "      <td>852.254286</td>\n",
       "      <td>107.713571</td>\n",
       "      <td>0.000000</td>\n",
       "      <td>2.114286</td>\n",
       "      <td>64.240714</td>\n",
       "      <td>13.205714</td>\n",
       "      <td>0.000000</td>\n",
       "      <td>83.242857</td>\n",
       "      <td>39.433571</td>\n",
       "      <td>610.239286</td>\n",
       "      <td>136.202853</td>\n",
       "      <td>32</td>\n",
       "      <td>8</td>\n",
       "      <td>3</td>\n",
       "      <td>2</td>\n",
       "    </tr>\n",
       "    <tr>\n",
       "      <th>98</th>\n",
       "      <td>2016-04-08</td>\n",
       "      <td>40.571429</td>\n",
       "      <td>5078.821429</td>\n",
       "      <td>0.000000</td>\n",
       "      <td>789.436429</td>\n",
       "      <td>135.289286</td>\n",
       "      <td>42.102143</td>\n",
       "      <td>101.292857</td>\n",
       "      <td>39.199286</td>\n",
       "      <td>0.000000</td>\n",
       "      <td>0.000000</td>\n",
       "      <td>49.527857</td>\n",
       "      <td>58.759286</td>\n",
       "      <td>0.000000</td>\n",
       "      <td>125.182218</td>\n",
       "      <td>14</td>\n",
       "      <td>4</td>\n",
       "      <td>4</td>\n",
       "      <td>1</td>\n",
       "    </tr>\n",
       "    <tr>\n",
       "      <th>1011</th>\n",
       "      <td>2018-10-08</td>\n",
       "      <td>68.500000</td>\n",
       "      <td>9637.665714</td>\n",
       "      <td>29.517514</td>\n",
       "      <td>883.740000</td>\n",
       "      <td>79.254286</td>\n",
       "      <td>0.000000</td>\n",
       "      <td>1.246429</td>\n",
       "      <td>35.382857</td>\n",
       "      <td>12.230000</td>\n",
       "      <td>2536.765000</td>\n",
       "      <td>88.462143</td>\n",
       "      <td>52.004286</td>\n",
       "      <td>736.707143</td>\n",
       "      <td>140.695850</td>\n",
       "      <td>41</td>\n",
       "      <td>10</td>\n",
       "      <td>0</td>\n",
       "      <td>3</td>\n",
       "    </tr>\n",
       "  </tbody>\n",
       "</table>\n",
       "</div>"
      ],
      "text/plain": [
       "           Date     orders        sales  Cost_Criteo    Cost_FB_P   Cost_FB_R  \\\n",
       "1033 2018-10-30  64.642857  8317.371429    26.792508  1302.086429   98.127857   \n",
       "466  2017-04-11  53.214286  7236.928571    53.256420   283.237143  112.710714   \n",
       "951  2018-08-09  53.071429  7228.480000    11.045585   852.254286  107.713571   \n",
       "98   2016-04-08  40.571429  5078.821429     0.000000   789.436429  135.289286   \n",
       "1011 2018-10-08  68.500000  9637.665714    29.517514   883.740000   79.254286   \n",
       "\n",
       "      Cost_GDN_P  Cost_GDN_R  Cost_Pint_P  Cost_Pint_R  Cost_Podcasts  \\\n",
       "1033    0.000000    2.257143    36.065000    10.179286     258.857143   \n",
       "466     0.000000   10.542143    48.482857    17.235714    1200.815714   \n",
       "951     0.000000    2.114286    64.240714    13.205714       0.000000   \n",
       "98     42.102143  101.292857    39.199286     0.000000       0.000000   \n",
       "1011    0.000000    1.246429    35.382857    12.230000    2536.765000   \n",
       "\n",
       "      Cost_SEM_B  Cost_SEM_NB     Cost_TV       Price  Week_Num  Month  \\\n",
       "1033   73.840714    43.911429  426.821429  128.666519        44     10   \n",
       "466    68.654286    27.425000    0.000000  135.995973        15      4   \n",
       "951    83.242857    39.433571  610.239286  136.202853        32      8   \n",
       "98     49.527857    58.759286    0.000000  125.182218        14      4   \n",
       "1011   88.462143    52.004286  736.707143  140.695850        41     10   \n",
       "\n",
       "      Weekday  Season  \n",
       "1033        1       3  \n",
       "466         1       1  \n",
       "951         3       2  \n",
       "98          4       1  \n",
       "1011        0       3  "
      ]
     },
     "execution_count": 35,
     "metadata": {},
     "output_type": "execute_result"
    }
   ],
   "source": [
    "df.sample(5)"
   ]
  },
  {
   "cell_type": "code",
   "execution_count": 36,
   "metadata": {},
   "outputs": [
    {
     "data": {
      "text/html": [
       "<div>\n",
       "<style scoped>\n",
       "    .dataframe tbody tr th:only-of-type {\n",
       "        vertical-align: middle;\n",
       "    }\n",
       "\n",
       "    .dataframe tbody tr th {\n",
       "        vertical-align: top;\n",
       "    }\n",
       "\n",
       "    .dataframe thead th {\n",
       "        text-align: right;\n",
       "    }\n",
       "</style>\n",
       "<table border=\"1\" class=\"dataframe\">\n",
       "  <thead>\n",
       "    <tr style=\"text-align: right;\">\n",
       "      <th></th>\n",
       "      <th>orders</th>\n",
       "      <th>sales</th>\n",
       "      <th>Cost_Criteo</th>\n",
       "      <th>Cost_FB_P</th>\n",
       "      <th>Cost_FB_R</th>\n",
       "      <th>Cost_GDN_P</th>\n",
       "      <th>Cost_GDN_R</th>\n",
       "      <th>Cost_Pint_P</th>\n",
       "      <th>Cost_Pint_R</th>\n",
       "      <th>Cost_Podcasts</th>\n",
       "      <th>Cost_SEM_B</th>\n",
       "      <th>Cost_SEM_NB</th>\n",
       "      <th>Cost_TV</th>\n",
       "      <th>Price</th>\n",
       "      <th>Week_Num</th>\n",
       "      <th>Month</th>\n",
       "      <th>Weekday</th>\n",
       "      <th>Season</th>\n",
       "    </tr>\n",
       "  </thead>\n",
       "  <tbody>\n",
       "    <tr>\n",
       "      <th>count</th>\n",
       "      <td>1308.000000</td>\n",
       "      <td>1308.000000</td>\n",
       "      <td>1308.000000</td>\n",
       "      <td>1308.000000</td>\n",
       "      <td>1308.000000</td>\n",
       "      <td>1308.000000</td>\n",
       "      <td>1308.000000</td>\n",
       "      <td>1308.000000</td>\n",
       "      <td>1308.000000</td>\n",
       "      <td>1308.000000</td>\n",
       "      <td>1308.000000</td>\n",
       "      <td>1308.000000</td>\n",
       "      <td>1308.000000</td>\n",
       "      <td>1308.000000</td>\n",
       "      <td>1308.000000</td>\n",
       "      <td>1308.000000</td>\n",
       "      <td>1308.00000</td>\n",
       "      <td>1308.000000</td>\n",
       "    </tr>\n",
       "    <tr>\n",
       "      <th>mean</th>\n",
       "      <td>95.186435</td>\n",
       "      <td>12198.738598</td>\n",
       "      <td>40.700948</td>\n",
       "      <td>1715.585807</td>\n",
       "      <td>463.208914</td>\n",
       "      <td>7.164540</td>\n",
       "      <td>21.495212</td>\n",
       "      <td>114.542351</td>\n",
       "      <td>20.382497</td>\n",
       "      <td>612.198295</td>\n",
       "      <td>116.838139</td>\n",
       "      <td>91.627252</td>\n",
       "      <td>393.866474</td>\n",
       "      <td>127.625450</td>\n",
       "      <td>24.805046</td>\n",
       "      <td>6.116208</td>\n",
       "      <td>3.00000</td>\n",
       "      <td>2.431957</td>\n",
       "    </tr>\n",
       "    <tr>\n",
       "      <th>std</th>\n",
       "      <td>125.261276</td>\n",
       "      <td>16264.956604</td>\n",
       "      <td>57.257554</td>\n",
       "      <td>3373.736007</td>\n",
       "      <td>948.556932</td>\n",
       "      <td>12.597595</td>\n",
       "      <td>29.153344</td>\n",
       "      <td>193.691279</td>\n",
       "      <td>30.774349</td>\n",
       "      <td>1012.008789</td>\n",
       "      <td>109.665705</td>\n",
       "      <td>141.635854</td>\n",
       "      <td>858.147648</td>\n",
       "      <td>12.707870</td>\n",
       "      <td>14.780342</td>\n",
       "      <td>3.387986</td>\n",
       "      <td>2.00153</td>\n",
       "      <td>1.146147</td>\n",
       "    </tr>\n",
       "    <tr>\n",
       "      <th>min</th>\n",
       "      <td>22.714286</td>\n",
       "      <td>2608.207143</td>\n",
       "      <td>0.000000</td>\n",
       "      <td>0.000000</td>\n",
       "      <td>13.970714</td>\n",
       "      <td>0.000000</td>\n",
       "      <td>0.000000</td>\n",
       "      <td>0.000000</td>\n",
       "      <td>0.000000</td>\n",
       "      <td>0.000000</td>\n",
       "      <td>36.971429</td>\n",
       "      <td>0.000000</td>\n",
       "      <td>0.000000</td>\n",
       "      <td>89.479635</td>\n",
       "      <td>1.000000</td>\n",
       "      <td>1.000000</td>\n",
       "      <td>0.00000</td>\n",
       "      <td>1.000000</td>\n",
       "    </tr>\n",
       "    <tr>\n",
       "      <th>25%</th>\n",
       "      <td>51.839286</td>\n",
       "      <td>6686.075715</td>\n",
       "      <td>11.784760</td>\n",
       "      <td>500.481429</td>\n",
       "      <td>149.430714</td>\n",
       "      <td>0.000000</td>\n",
       "      <td>3.420714</td>\n",
       "      <td>47.506964</td>\n",
       "      <td>7.487500</td>\n",
       "      <td>0.000000</td>\n",
       "      <td>69.173214</td>\n",
       "      <td>41.034464</td>\n",
       "      <td>0.000000</td>\n",
       "      <td>122.331269</td>\n",
       "      <td>12.000000</td>\n",
       "      <td>3.000000</td>\n",
       "      <td>1.00000</td>\n",
       "      <td>1.000000</td>\n",
       "    </tr>\n",
       "    <tr>\n",
       "      <th>50%</th>\n",
       "      <td>61.321429</td>\n",
       "      <td>7960.246071</td>\n",
       "      <td>26.127846</td>\n",
       "      <td>852.077857</td>\n",
       "      <td>206.923929</td>\n",
       "      <td>0.000000</td>\n",
       "      <td>10.297857</td>\n",
       "      <td>67.836071</td>\n",
       "      <td>13.459643</td>\n",
       "      <td>119.500000</td>\n",
       "      <td>83.801071</td>\n",
       "      <td>62.875714</td>\n",
       "      <td>0.000000</td>\n",
       "      <td>128.554492</td>\n",
       "      <td>24.000000</td>\n",
       "      <td>6.000000</td>\n",
       "      <td>3.00000</td>\n",
       "      <td>2.000000</td>\n",
       "    </tr>\n",
       "    <tr>\n",
       "      <th>75%</th>\n",
       "      <td>83.142857</td>\n",
       "      <td>10090.348748</td>\n",
       "      <td>45.582375</td>\n",
       "      <td>1409.314108</td>\n",
       "      <td>390.141071</td>\n",
       "      <td>12.412321</td>\n",
       "      <td>28.890714</td>\n",
       "      <td>105.314286</td>\n",
       "      <td>20.578214</td>\n",
       "      <td>829.123929</td>\n",
       "      <td>110.189821</td>\n",
       "      <td>89.468393</td>\n",
       "      <td>467.773214</td>\n",
       "      <td>135.922348</td>\n",
       "      <td>37.000000</td>\n",
       "      <td>9.000000</td>\n",
       "      <td>5.00000</td>\n",
       "      <td>4.000000</td>\n",
       "    </tr>\n",
       "    <tr>\n",
       "      <th>max</th>\n",
       "      <td>1879.071429</td>\n",
       "      <td>243411.206400</td>\n",
       "      <td>666.212341</td>\n",
       "      <td>39357.307140</td>\n",
       "      <td>17647.035000</td>\n",
       "      <td>91.780714</td>\n",
       "      <td>333.711429</td>\n",
       "      <td>2243.424286</td>\n",
       "      <td>258.049286</td>\n",
       "      <td>6943.932563</td>\n",
       "      <td>1178.240714</td>\n",
       "      <td>3040.415714</td>\n",
       "      <td>8780.560714</td>\n",
       "      <td>171.989987</td>\n",
       "      <td>53.000000</td>\n",
       "      <td>12.000000</td>\n",
       "      <td>6.00000</td>\n",
       "      <td>4.000000</td>\n",
       "    </tr>\n",
       "  </tbody>\n",
       "</table>\n",
       "</div>"
      ],
      "text/plain": [
       "            orders          sales  Cost_Criteo     Cost_FB_P     Cost_FB_R  \\\n",
       "count  1308.000000    1308.000000  1308.000000   1308.000000   1308.000000   \n",
       "mean     95.186435   12198.738598    40.700948   1715.585807    463.208914   \n",
       "std     125.261276   16264.956604    57.257554   3373.736007    948.556932   \n",
       "min      22.714286    2608.207143     0.000000      0.000000     13.970714   \n",
       "25%      51.839286    6686.075715    11.784760    500.481429    149.430714   \n",
       "50%      61.321429    7960.246071    26.127846    852.077857    206.923929   \n",
       "75%      83.142857   10090.348748    45.582375   1409.314108    390.141071   \n",
       "max    1879.071429  243411.206400   666.212341  39357.307140  17647.035000   \n",
       "\n",
       "        Cost_GDN_P   Cost_GDN_R  Cost_Pint_P  Cost_Pint_R  Cost_Podcasts  \\\n",
       "count  1308.000000  1308.000000  1308.000000  1308.000000    1308.000000   \n",
       "mean      7.164540    21.495212   114.542351    20.382497     612.198295   \n",
       "std      12.597595    29.153344   193.691279    30.774349    1012.008789   \n",
       "min       0.000000     0.000000     0.000000     0.000000       0.000000   \n",
       "25%       0.000000     3.420714    47.506964     7.487500       0.000000   \n",
       "50%       0.000000    10.297857    67.836071    13.459643     119.500000   \n",
       "75%      12.412321    28.890714   105.314286    20.578214     829.123929   \n",
       "max      91.780714   333.711429  2243.424286   258.049286    6943.932563   \n",
       "\n",
       "        Cost_SEM_B  Cost_SEM_NB      Cost_TV        Price     Week_Num  \\\n",
       "count  1308.000000  1308.000000  1308.000000  1308.000000  1308.000000   \n",
       "mean    116.838139    91.627252   393.866474   127.625450    24.805046   \n",
       "std     109.665705   141.635854   858.147648    12.707870    14.780342   \n",
       "min      36.971429     0.000000     0.000000    89.479635     1.000000   \n",
       "25%      69.173214    41.034464     0.000000   122.331269    12.000000   \n",
       "50%      83.801071    62.875714     0.000000   128.554492    24.000000   \n",
       "75%     110.189821    89.468393   467.773214   135.922348    37.000000   \n",
       "max    1178.240714  3040.415714  8780.560714   171.989987    53.000000   \n",
       "\n",
       "             Month     Weekday       Season  \n",
       "count  1308.000000  1308.00000  1308.000000  \n",
       "mean      6.116208     3.00000     2.431957  \n",
       "std       3.387986     2.00153     1.146147  \n",
       "min       1.000000     0.00000     1.000000  \n",
       "25%       3.000000     1.00000     1.000000  \n",
       "50%       6.000000     3.00000     2.000000  \n",
       "75%       9.000000     5.00000     4.000000  \n",
       "max      12.000000     6.00000     4.000000  "
      ]
     },
     "execution_count": 36,
     "metadata": {},
     "output_type": "execute_result"
    }
   ],
   "source": [
    "df.describe()"
   ]
  },
  {
   "cell_type": "code",
   "execution_count": 37,
   "metadata": {},
   "outputs": [],
   "source": [
    "delete_row = df[df[\"Cost_Pint_P\"]>1000].index\n",
    "df_pint = df.drop(delete_row)"
   ]
  },
  {
   "cell_type": "markdown",
   "metadata": {},
   "source": [
    "## Machine Learning Models - Target: Sales"
   ]
  },
  {
   "cell_type": "markdown",
   "metadata": {},
   "source": [
    "### Train Test Split"
   ]
  },
  {
   "cell_type": "code",
   "execution_count": 38,
   "metadata": {},
   "outputs": [
    {
     "name": "stdout",
     "output_type": "stream",
     "text": [
      "==================================================\n",
      "Training Features Shape: (1046, 16)\n",
      "Training Labels Shape: (1046,)\n",
      "Testing Features Shape: (262, 16)\n",
      "Testing Labels Shape: (262,)\n"
     ]
    }
   ],
   "source": [
    "df = df.drop(['Date'], axis=1).drop (['orders'], axis =1)\n",
    "X = df.drop('sales', axis=1)\n",
    "y = df['sales']\n",
    "\n",
    "X_list = list(X.columns)\n",
    "print('='*50)\n",
    "\n",
    "X_train, X_test, y_train, y_test = train_test_split(X, y, test_size=0.2, random_state=0)\n",
    "print('Training Features Shape:', X_train.shape)\n",
    "print('Training Labels Shape:', y_train.shape)\n",
    "print('Testing Features Shape:', X_test.shape)\n",
    "print('Testing Labels Shape:', y_test.shape)"
   ]
  },
  {
   "cell_type": "markdown",
   "metadata": {},
   "source": [
    "## Linear Regression "
   ]
  },
  {
   "cell_type": "code",
   "execution_count": 39,
   "metadata": {},
   "outputs": [
    {
     "data": {
      "text/plain": [
       "LinearRegression(copy_X=True, fit_intercept=True, n_jobs=None, normalize=False)"
      ]
     },
     "execution_count": 39,
     "metadata": {},
     "output_type": "execute_result"
    }
   ],
   "source": [
    "regressor = LinearRegression()  \n",
    "regressor.fit(X_train, y_train) #training the algorithm"
   ]
  },
  {
   "cell_type": "code",
   "execution_count": 40,
   "metadata": {},
   "outputs": [
    {
     "name": "stdout",
     "output_type": "stream",
     "text": [
      "Training dataset shape: (1046, 16) (1046,)\n",
      "Testing dataset shape: (262, 16) (262,)\n",
      "--------------------------------------------------\n",
      "R^2 for train set: 0.927274\n",
      "--------------------------------------------------\n",
      "R^2 for test  set: 0.879028\n"
     ]
    }
   ],
   "source": [
    "y_train = y_train.ravel()\n",
    "y_test = y_test.ravel()\n",
    "\n",
    "print('Training dataset shape:', X_train.shape, y_train.shape)\n",
    "print('Testing dataset shape:', X_test.shape, y_test.shape)\n",
    "print('-'*50)\n",
    "print(\"R^2 for train set: %f\" %regressor.score(X_train, y_train))\n",
    "print('-'*50)\n",
    "print(\"R^2 for test  set: %f\" %regressor.score(X_test, y_test))"
   ]
  },
  {
   "cell_type": "code",
   "execution_count": 41,
   "metadata": {},
   "outputs": [
    {
     "name": "stdout",
     "output_type": "stream",
     "text": [
      "                            OLS Regression Results                            \n",
      "==============================================================================\n",
      "Dep. Variable:                      y   R-squared:                       0.927\n",
      "Model:                            OLS   Adj. R-squared:                  0.926\n",
      "Method:                 Least Squares   F-statistic:                     820.0\n",
      "Date:                Tue, 03 Mar 2020   Prob (F-statistic):               0.00\n",
      "Time:                        21:34:15   Log-Likelihood:                -10305.\n",
      "No. Observations:                1046   AIC:                         2.064e+04\n",
      "Df Residuals:                    1029   BIC:                         2.073e+04\n",
      "Df Model:                          16                                         \n",
      "Covariance Type:            nonrobust                                         \n",
      "=================================================================================\n",
      "                    coef    std err          t      P>|t|      [0.025      0.975]\n",
      "---------------------------------------------------------------------------------\n",
      "const         -1555.0144   1620.835     -0.959      0.338   -4735.533    1625.504\n",
      "Cost_Criteo      27.7359      4.084      6.791      0.000      19.722      35.750\n",
      "Cost_FB_P         2.0732      0.077     26.787      0.000       1.921       2.225\n",
      "Cost_FB_R         2.6859      0.335      8.014      0.000       2.028       3.343\n",
      "Cost_GDN_P      -32.1570     15.467     -2.079      0.038     -62.507      -1.807\n",
      "Cost_GDN_R      -14.6329      8.268     -1.770      0.077     -30.857       1.591\n",
      "Cost_Pint_P      -6.1458      1.144     -5.373      0.000      -8.390      -3.901\n",
      "Cost_Pint_R      20.9893      9.154      2.293      0.022       3.027      38.951\n",
      "Cost_Podcasts    -0.0849      0.161     -0.527      0.598      -0.401       0.231\n",
      "Cost_SEM_B       50.0355      3.129     15.993      0.000      43.896      56.175\n",
      "Cost_SEM_NB      22.1477      1.466     15.105      0.000      19.271      25.025\n",
      "Cost_TV          -0.6433      0.269     -2.387      0.017      -1.172      -0.115\n",
      "Price            32.3894     13.414      2.415      0.016       6.068      58.711\n",
      "Week_Num        -32.2631     43.728     -0.738      0.461    -118.070      53.543\n",
      "Month            45.6438    191.202      0.239      0.811    -329.547     420.834\n",
      "Weekday        -137.5345     79.806     -1.723      0.085    -294.136      19.068\n",
      "Season         -827.8989    145.643     -5.684      0.000   -1113.689    -542.108\n",
      "==============================================================================\n",
      "Omnibus:                      754.714   Durbin-Watson:                   1.993\n",
      "Prob(Omnibus):                  0.000   Jarque-Bera (JB):            66722.744\n",
      "Skew:                           2.548   Prob(JB):                         0.00\n",
      "Kurtosis:                      41.794   Cond. No.                     4.62e+04\n",
      "==============================================================================\n",
      "\n",
      "Warnings:\n",
      "[1] Standard Errors assume that the covariance matrix of the errors is correctly specified.\n",
      "[2] The condition number is large, 4.62e+04. This might indicate that there are\n",
      "strong multicollinearity or other numerical problems.\n"
     ]
    }
   ],
   "source": [
    "X_add_const = sm.add_constant(X_train)\n",
    "ols = sm.OLS(y_train, X_add_const)\n",
    "ans = ols.fit()\n",
    "print(ans.summary())"
   ]
  },
  {
   "cell_type": "code",
   "execution_count": 42,
   "metadata": {},
   "outputs": [
    {
     "name": "stdout",
     "output_type": "stream",
     "text": [
      "[ 2.77359409e+01  2.07315121e+00  2.68585720e+00 -3.21570081e+01\n",
      " -1.46328931e+01 -6.14584109e+00  2.09893304e+01 -8.48618609e-02\n",
      "  5.00354671e+01  2.21477073e+01 -6.43286376e-01  3.23894424e+01\n",
      " -3.22631327e+01  4.56438223e+01 -1.37534458e+02 -8.27898863e+02]\n"
     ]
    }
   ],
   "source": [
    "print(regressor.coef_)"
   ]
  },
  {
   "cell_type": "code",
   "execution_count": 43,
   "metadata": {},
   "outputs": [
    {
     "name": "stdout",
     "output_type": "stream",
     "text": [
      "Cost_Criteo      1587.484947\n",
      "Cost_FB_P        6991.590710\n",
      "Cost_FB_R        2546.714391\n",
      "Cost_GDN_P       -404.946088\n",
      "Cost_GDN_R       -426.434665\n",
      "Cost_Pint_P     -1189.940690\n",
      "Cost_Pint_R       645.686008\n",
      "Cost_Podcasts     -85.848114\n",
      "Cost_SEM_B       5485.076822\n",
      "Cost_SEM_NB      3135.710085\n",
      "Cost_TV          -551.823628\n",
      "Price             411.443447\n",
      "Week_Num         -476.677827\n",
      "Month             154.581524\n",
      "Weekday          -275.174044\n",
      "Season           -948.530944\n",
      "dtype: float64\n"
     ]
    }
   ],
   "source": [
    "print(np.std(X, 0)*regressor.coef_)"
   ]
  },
  {
   "cell_type": "code",
   "execution_count": 44,
   "metadata": {},
   "outputs": [
    {
     "name": "stdout",
     "output_type": "stream",
     "text": [
      "                             Test for Constraints                             \n",
      "==============================================================================\n",
      "                 coef    std err          t      P>|t|      [0.025      0.975]\n",
      "------------------------------------------------------------------------------\n",
      "c0         -1555.0144   1620.835     -0.959      0.338   -4735.533    1625.504\n",
      "c1          1573.8530    231.744      6.791      0.000    1119.109    2028.597\n",
      "c2          7306.2464    272.751     26.787      0.000    6771.035    7841.458\n",
      "c3          2464.2295    307.485      8.014      0.000    1860.860    3067.599\n",
      "c4          -409.1797    196.803     -2.079      0.038    -795.361     -22.998\n",
      "c5          -419.4011    236.967     -1.770      0.077    -884.396      45.594\n",
      "c6         -1170.2495    217.787     -5.373      0.000   -1597.607    -742.892\n",
      "c7           625.6885    272.868      2.293      0.022      90.248    1161.129\n",
      "c8           -85.3695    161.942     -0.527      0.598    -403.144     232.405\n",
      "c9          5655.9487    353.658     15.993      0.000    4961.975    6349.922\n",
      "c10         3160.4453    209.227     15.105      0.000    2749.885    3571.005\n",
      "c11         -565.7894    237.012     -2.387      0.017   -1030.871    -100.708\n",
      "c12          413.8509    171.394      2.415      0.016      77.530     750.172\n",
      "c13         -475.9584    645.094     -0.738      0.461   -1741.808     789.891\n",
      "c14          154.7460    648.231      0.239      0.811   -1117.260    1426.752\n",
      "c15         -272.0912    157.885     -1.723      0.085    -581.905      37.722\n",
      "c16         -951.9931    167.473     -5.684      0.000   -1280.621    -623.365\n",
      "==============================================================================\n"
     ]
    }
   ],
   "source": [
    "std = ols.exog.std(0)\n",
    "std[0] = 1\n",
    "tt = ans.t_test(np.diag(std))\n",
    "print(tt.summary())\n"
   ]
  },
  {
   "cell_type": "markdown",
   "metadata": {},
   "source": [
    "### Forward Feature Selection with Linear Regression "
   ]
  },
  {
   "cell_type": "code",
   "execution_count": 45,
   "metadata": {},
   "outputs": [
    {
     "name": "stdout",
     "output_type": "stream",
     "text": [
      "1\n",
      "Features: [8]\n",
      "Train Score: 0.7771835938556669\n",
      "Test Score: 0.7580701132964743\n",
      "2\n",
      "Features: [1, 8]\n",
      "Train Score: 0.8907827116632381\n",
      "Test Score: 0.8805559480634052\n",
      "3\n",
      "Features: [1, 8, 9]\n",
      "Train Score: 0.9060809917269949\n",
      "Test Score: 0.870697955150867\n",
      "4\n",
      "Features: [1, 6, 8, 9]\n",
      "Train Score: 0.9120478053553042\n",
      "Test Score: 0.8814776029372923\n",
      "5\n",
      "Features: [1, 6, 8, 9, 15]\n",
      "Train Score: 0.9143380766149561\n",
      "Test Score: 0.882623270915345\n",
      "6\n",
      "Features: [0, 1, 6, 8, 9, 15]\n",
      "Train Score: 0.9185036926093966\n",
      "Test Score: 0.874784374595805\n",
      "7\n",
      "Features: [0, 1, 6, 8, 9, 14, 15]\n",
      "Train Score: 0.9189910845465401\n",
      "Test Score: 0.8763095734302392\n",
      "8\n",
      "Features: [0, 1, 6, 8, 9, 12, 14, 15]\n",
      "Train Score: 0.9190453797716807\n",
      "Test Score: 0.8764860076578019\n",
      "9\n",
      "Features: [0, 1, 6, 8, 9, 12, 13, 14, 15]\n",
      "Train Score: 0.9190556915963618\n",
      "Test Score: 0.8762377174612953\n",
      "10\n",
      "Features: [0, 1, 6, 7, 8, 9, 12, 13, 14, 15]\n",
      "Train Score: 0.9190701724691367\n",
      "Test Score: 0.8756632219658019\n"
     ]
    }
   ],
   "source": [
    "feature_selection = range(1, 11)\n",
    "\n",
    "features = []\n",
    "train_scores = []\n",
    "test_scores = []\n",
    "\n",
    "for k_features in feature_selection:\n",
    "    ols = LinearRegression()\n",
    "    sfs1 = sfs(ols,\n",
    "               k_features=k_features,\n",
    "               forward=True,\n",
    "               floating=False,\n",
    "               verbose=0,\n",
    "               scoring='r2',\n",
    "               cv=5,\n",
    "               n_jobs=-1)\n",
    "    sfs1 = sfs1.fit(np.array(X), np.array(df['sales']))\n",
    "    feat_cols = list(sfs1.k_feature_idx_)\n",
    "    \n",
    "    print(k_features)\n",
    "    features.append(feat_cols)\n",
    "    print('Features: ' + str(feat_cols))\n",
    "    ols.fit(X.iloc[:,feat_cols], df['sales'])\n",
    "    train_scores.append(ols.score(X.iloc[:,feat_cols], df['sales']))\n",
    "    print('Train Score: ' + str(train_scores[-1]))\n",
    "    ms_k3 = ms.KFold(n_splits=3)\n",
    "    test_scores.append(np.mean(ms.cross_val_score(estimator=ols, X=X.iloc[:, feat_cols], y=y, cv=ms_k3)))\n",
    "    print('Test Score: ' + str(test_scores[-1]))"
   ]
  },
  {
   "cell_type": "code",
   "execution_count": 46,
   "metadata": {},
   "outputs": [
    {
     "data": {
      "text/plain": [
       "Index(['Cost_Criteo', 'Cost_FB_P', 'Cost_Pint_R', 'Cost_Podcasts',\n",
       "       'Cost_SEM_B', 'Cost_SEM_NB', 'Week_Num', 'Month', 'Weekday', 'Season'],\n",
       "      dtype='object')"
      ]
     },
     "execution_count": 46,
     "metadata": {},
     "output_type": "execute_result"
    }
   ],
   "source": [
    "X.iloc[:,features[-1]].columns"
   ]
  },
  {
   "cell_type": "markdown",
   "metadata": {},
   "source": [
    "The 6 most important original features to sales are\n",
    "- Cost_Criteo\n",
    "- Cost_FB_P\n",
    "- Cost_Pint_R\n",
    "- Cost_Podcasts\n",
    "- Cost_SEM_B\n",
    "- Cost_SEM_NB"
   ]
  },
  {
   "cell_type": "code",
   "execution_count": 47,
   "metadata": {},
   "outputs": [
    {
     "name": "stdout",
     "output_type": "stream",
     "text": [
      "Training Features Shape: (1046, 6)\n",
      "Training Labels Shape: (1046,)\n",
      "Testing Features Shape: (262, 6)\n",
      "Testing Labels Shape: (262,)\n"
     ]
    }
   ],
   "source": [
    "X1 = df[['Cost_Criteo','Cost_FB_P','Cost_Pint_R', 'Cost_Podcasts', 'Cost_SEM_B', 'Cost_SEM_NB']]\n",
    "y1 = df['sales']\n",
    "\n",
    "X1_train, X1_test, y1_train, y1_test = train_test_split(X1, y1, test_size=0.2, random_state=0)\n",
    "print('Training Features Shape:', X1_train.shape)\n",
    "print('Training Labels Shape:', y1_train.shape)\n",
    "print('Testing Features Shape:', X1_test.shape)\n",
    "print('Testing Labels Shape:', y1_test.shape)"
   ]
  },
  {
   "cell_type": "code",
   "execution_count": 48,
   "metadata": {},
   "outputs": [
    {
     "data": {
      "text/plain": [
       "LinearRegression(copy_X=True, fit_intercept=True, n_jobs=None, normalize=False)"
      ]
     },
     "execution_count": 48,
     "metadata": {},
     "output_type": "execute_result"
    }
   ],
   "source": [
    "regressor = LinearRegression()  \n",
    "regressor.fit(X1_train, y1_train) #training the algorithm"
   ]
  },
  {
   "cell_type": "code",
   "execution_count": 49,
   "metadata": {},
   "outputs": [
    {
     "name": "stdout",
     "output_type": "stream",
     "text": [
      "Training dataset shape: (1046, 6) (1046,)\n",
      "Testing dataset shape: (262, 6) (262,)\n",
      "--------------------------------------------------\n",
      "R^2 for train set: 0.916771\n",
      "--------------------------------------------------\n",
      "R^2 for test  set: 0.904847\n"
     ]
    }
   ],
   "source": [
    "y1_train = y1_train.ravel()\n",
    "y1_test = y1_test.ravel()\n",
    "\n",
    "print('Training dataset shape:', X1_train.shape, y1_train.shape)\n",
    "print('Testing dataset shape:', X1_test.shape, y1_test.shape)\n",
    "print('-'*50)\n",
    "print(\"R^2 for train set: %f\" %regressor.score(X1_train, y1_train))\n",
    "print('-'*50)\n",
    "print(\"R^2 for test  set: %f\" %regressor.score(X1_test, y1_test))"
   ]
  },
  {
   "cell_type": "code",
   "execution_count": 50,
   "metadata": {},
   "outputs": [
    {
     "name": "stdout",
     "output_type": "stream",
     "text": [
      "                            OLS Regression Results                            \n",
      "==============================================================================\n",
      "Dep. Variable:                      y   R-squared:                       0.917\n",
      "Model:                            OLS   Adj. R-squared:                  0.916\n",
      "Method:                 Least Squares   F-statistic:                     1907.\n",
      "Date:                Tue, 03 Mar 2020   Prob (F-statistic):               0.00\n",
      "Time:                        21:37:00   Log-Likelihood:                -10375.\n",
      "No. Observations:                1046   AIC:                         2.076e+04\n",
      "Df Residuals:                    1039   BIC:                         2.080e+04\n",
      "Df Model:                           6                                         \n",
      "Covariance Type:            nonrobust                                         \n",
      "=================================================================================\n",
      "                    coef    std err          t      P>|t|      [0.025      0.975]\n",
      "---------------------------------------------------------------------------------\n",
      "const          -471.5978    240.606     -1.960      0.050    -943.728       0.532\n",
      "Cost_Criteo      30.5138      4.128      7.392      0.000      22.413      38.614\n",
      "Cost_FB_P         2.3413      0.073     32.091      0.000       2.198       2.484\n",
      "Cost_Pint_R      35.2276      8.094      4.352      0.000      19.344      51.111\n",
      "Cost_Podcasts     0.0793      0.158      0.502      0.616      -0.231       0.390\n",
      "Cost_SEM_B       40.9915      2.683     15.276      0.000      35.726      46.257\n",
      "Cost_SEM_NB      21.5103      1.504     14.301      0.000      18.559      24.462\n",
      "==============================================================================\n",
      "Omnibus:                      738.860   Durbin-Watson:                   2.013\n",
      "Prob(Omnibus):                  0.000   Jarque-Bera (JB):            76053.736\n",
      "Skew:                           2.411   Prob(JB):                         0.00\n",
      "Kurtosis:                      44.494   Cond. No.                     6.25e+03\n",
      "==============================================================================\n",
      "\n",
      "Warnings:\n",
      "[1] Standard Errors assume that the covariance matrix of the errors is correctly specified.\n",
      "[2] The condition number is large, 6.25e+03. This might indicate that there are\n",
      "strong multicollinearity or other numerical problems.\n"
     ]
    }
   ],
   "source": [
    "X1_add_const = sm.add_constant(X1_train)\n",
    "ols = sm.OLS(y1_train, X1_add_const)\n",
    "ans = ols.fit()\n",
    "print(ans.summary())"
   ]
  }
 ],
 "metadata": {
  "kernelspec": {
   "display_name": "Python 3",
   "language": "python",
   "name": "python3"
  },
  "language_info": {
   "codemirror_mode": {
    "name": "ipython",
    "version": 3
   },
   "file_extension": ".py",
   "mimetype": "text/x-python",
   "name": "python",
   "nbconvert_exporter": "python",
   "pygments_lexer": "ipython3",
   "version": "3.7.3"
  }
 },
 "nbformat": 4,
 "nbformat_minor": 2
}
